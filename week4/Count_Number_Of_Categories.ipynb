{
 "cells": [
  {
   "cell_type": "code",
   "execution_count": 20,
   "id": "262f76d8",
   "metadata": {},
   "outputs": [],
   "source": [
    "import pandas as pd"
   ]
  },
  {
   "cell_type": "code",
   "execution_count": 21,
   "id": "c04fe504",
   "metadata": {},
   "outputs": [],
   "source": [
    "query_data = pd.read_csv('/workspace/datasets/labeled_query_data.txt', sep='[|][#][|]', engine='python',\\\n",
    "                   names = ['label'], header = None)"
   ]
  },
  {
   "cell_type": "code",
   "execution_count": 22,
   "id": "a4bd5c54",
   "metadata": {},
   "outputs": [],
   "source": [
    "query_data = query_data.label.str.split(' ', n =1,expand=True).rename(columns = {0: 'label', 1: 'query'})"
   ]
  },
  {
   "cell_type": "code",
   "execution_count": 23,
   "id": "67409689",
   "metadata": {},
   "outputs": [
    {
     "data": {
      "text/html": [
       "<div>\n",
       "<style scoped>\n",
       "    .dataframe tbody tr th:only-of-type {\n",
       "        vertical-align: middle;\n",
       "    }\n",
       "\n",
       "    .dataframe tbody tr th {\n",
       "        vertical-align: top;\n",
       "    }\n",
       "\n",
       "    .dataframe thead th {\n",
       "        text-align: right;\n",
       "    }\n",
       "</style>\n",
       "<table border=\"1\" class=\"dataframe\">\n",
       "  <thead>\n",
       "    <tr style=\"text-align: right;\">\n",
       "      <th></th>\n",
       "      <th>label</th>\n",
       "      <th>query</th>\n",
       "    </tr>\n",
       "  </thead>\n",
       "  <tbody>\n",
       "    <tr>\n",
       "      <th>0</th>\n",
       "      <td>__label__abcat0101001</td>\n",
       "      <td>televisiones panasonic  50 pulgadas</td>\n",
       "    </tr>\n",
       "    <tr>\n",
       "      <th>1</th>\n",
       "      <td>__label__abcat0101001</td>\n",
       "      <td>sharp</td>\n",
       "    </tr>\n",
       "    <tr>\n",
       "      <th>2</th>\n",
       "      <td>__label__pcmcat193100050014</td>\n",
       "      <td>nook</td>\n",
       "    </tr>\n",
       "    <tr>\n",
       "      <th>3</th>\n",
       "      <td>__label__abcat0101001</td>\n",
       "      <td>rca</td>\n",
       "    </tr>\n",
       "    <tr>\n",
       "      <th>4</th>\n",
       "      <td>__label__abcat0101005</td>\n",
       "      <td>rca</td>\n",
       "    </tr>\n",
       "  </tbody>\n",
       "</table>\n",
       "</div>"
      ],
      "text/plain": [
       "                         label                                query\n",
       "0        __label__abcat0101001  televisiones panasonic  50 pulgadas\n",
       "1        __label__abcat0101001                                sharp\n",
       "2  __label__pcmcat193100050014                                 nook\n",
       "3        __label__abcat0101001                                  rca\n",
       "4        __label__abcat0101005                                  rca"
      ]
     },
     "execution_count": 23,
     "metadata": {},
     "output_type": "execute_result"
    }
   ],
   "source": [
    "query_data.head()"
   ]
  },
  {
   "cell_type": "code",
   "execution_count": 24,
   "id": "1a1124d3",
   "metadata": {},
   "outputs": [
    {
     "data": {
      "text/plain": [
       "879"
      ]
     },
     "execution_count": 24,
     "metadata": {},
     "output_type": "execute_result"
    }
   ],
   "source": [
    "query_data.label.nunique()"
   ]
  }
 ],
 "metadata": {
  "kernelspec": {
   "display_name": "Python 3 (ipykernel)",
   "language": "python",
   "name": "python3"
  },
  "language_info": {
   "codemirror_mode": {
    "name": "ipython",
    "version": 3
   },
   "file_extension": ".py",
   "mimetype": "text/x-python",
   "name": "python",
   "nbconvert_exporter": "python",
   "pygments_lexer": "ipython3",
   "version": "3.9.7"
  }
 },
 "nbformat": 4,
 "nbformat_minor": 5
}
