{
 "cells": [
  {
   "cell_type": "code",
   "execution_count": 1,
   "id": "7f4f958b",
   "metadata": {},
   "outputs": [],
   "source": [
    "import os\n",
    "import argparse\n",
    "import xml.etree.ElementTree as ET\n",
    "import pandas as pd\n",
    "import numpy as np\n",
    "import csv\n",
    "\n",
    "# Useful if you want to perform stemming.\n",
    "import nltk\n",
    "stemmer = nltk.stem.PorterStemmer()\n",
    "\n",
    "categories_file_name = r'/workspace/datasets/product_data/categories/categories_0001_abcat0010000_to_pcmcat99300050000.xml'\n",
    "\n",
    "queries_file_name = r'/workspace/datasets/train.csv'\n",
    "output_file_name = r'/workspace/datasets/labeled_query_data.txt'\n",
    "\n"
   ]
  },
  {
   "cell_type": "code",
   "execution_count": 2,
   "id": "3f02c980",
   "metadata": {},
   "outputs": [],
   "source": [
    "# parser = argparse.ArgumentParser(description='Process arguments.')\n",
    "# general = parser.add_argument_group(\"general\")\n",
    "# general.add_argument(\"--min_queries\", default=1,  help=\"The minimum number of queries per category label (default is 1)\")\n",
    "# general.add_argument(\"--output\", default=output_file_name, help=\"the file to output to\")\n",
    "\n",
    "# args = parser.parse_args()\n",
    "# output_file_name = args.output\n",
    "\n",
    "# if args.min_queries:\n",
    "#     min_queries = int(args.min_queries)\n",
    "\n",
    "# The root category, named Best Buy with id cat00000, doesn't have a parent.\n",
    "\n",
    "min_queries = 10\n",
    "root_category_id = 'cat00000'\n",
    "\n",
    "tree = ET.parse(categories_file_name)\n",
    "root = tree.getroot()\n",
    "\n",
    "# Parse the category XML file to map each category id to its parent category id in a dataframe.\n",
    "categories = []\n",
    "parents = []\n"
   ]
  },
  {
   "cell_type": "code",
   "execution_count": 3,
   "id": "062dff5f",
   "metadata": {},
   "outputs": [],
   "source": [
    "for child in root:\n",
    "    id = child.find('id').text\n",
    "    cat_path = child.find('path')\n",
    "    cat_path_ids = [cat.find('id').text for cat in cat_path]\n",
    "    leaf_id = cat_path_ids[-1]\n",
    "    if leaf_id != root_category_id:\n",
    "        categories.append(leaf_id)\n",
    "        parents.append(cat_path_ids[-2])\n",
    "parents_df = pd.DataFrame(list(zip(categories, parents)), columns =['category', 'parent'])\n",
    "\n",
    "# Read the training data into pandas, only keeping queries with non-root categories in our category tree.\n",
    "df = pd.read_csv(queries_file_name)[['category', 'query']]\n",
    "df = df[df['category'].isin(categories)]"
   ]
  },
  {
   "cell_type": "code",
   "execution_count": 4,
   "id": "9bb230fd",
   "metadata": {},
   "outputs": [],
   "source": [
    "category_value_counts= pd.DataFrame(df['category'].value_counts().reset_index().\\\n",
    "                                    rename(columns = {\"index\": \"category\", \"category\": \"category_count\"}))\n",
    "faulty_categories = list(category_value_counts[category_value_counts['category_count'] < min_queries]['category'])\n",
    "\n",
    "while len(faulty_categories) > 0:\n",
    "    df.loc[df['category'].isin(faulty_categories), 'category'] = df['category'].\\\n",
    "    map(parents_df.set_index('category')['parent'])\n",
    "    category_value_counts= pd.DataFrame(df['category'].value_counts().reset_index().\\\n",
    "                                    rename(columns = {\"index\": \"category\", \"category\": \"category_count\"}))\n",
    "    faulty_categories = list(category_value_counts[category_value_counts['category_count'] < min_queries]['category'])\n",
    "    "
   ]
  },
  {
   "cell_type": "code",
   "execution_count": 4,
   "id": "55f0b998",
   "metadata": {},
   "outputs": [],
   "source": [
    "# find faulty categories\n",
    "\n",
    "category_value_counts= pd.DataFrame(df['category'].value_counts().reset_index().\\\n",
    "                                    rename(columns = {\"index\": \"category\", \"category\": \"category_count\"}))\n",
    "faulty_categories = list(category_value_counts[category_value_counts['category_count'] < min_queries]['category'])\n",
    "df.loc[df['category'].isin(faulty_categories), 'category'] = df['category'].map(parents_df.set_index('category')['parent'])"
   ]
  },
  {
   "cell_type": "code",
   "execution_count": 5,
   "id": "7c023e2d",
   "metadata": {},
   "outputs": [
    {
     "data": {
      "text/plain": [
       "[]"
      ]
     },
     "execution_count": 5,
     "metadata": {},
     "output_type": "execute_result"
    }
   ],
   "source": [
    "faulty_categories"
   ]
  },
  {
   "cell_type": "code",
   "execution_count": 7,
   "id": "181df31e",
   "metadata": {},
   "outputs": [
    {
     "data": {
      "text/plain": [
       "category    0\n",
       "query       0\n",
       "dtype: int64"
      ]
     },
     "execution_count": 7,
     "metadata": {},
     "output_type": "execute_result"
    }
   ],
   "source": [
    "df.isnull().sum()"
   ]
  }
 ],
 "metadata": {
  "kernelspec": {
   "display_name": "Python 3 (ipykernel)",
   "language": "python",
   "name": "python3"
  },
  "language_info": {
   "codemirror_mode": {
    "name": "ipython",
    "version": 3
   },
   "file_extension": ".py",
   "mimetype": "text/x-python",
   "name": "python",
   "nbconvert_exporter": "python",
   "pygments_lexer": "ipython3",
   "version": "3.9.7"
  }
 },
 "nbformat": 4,
 "nbformat_minor": 5
}
