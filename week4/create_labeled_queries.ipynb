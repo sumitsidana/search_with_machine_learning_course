{
 "cells": [
  {
   "cell_type": "code",
   "execution_count": 1,
   "id": "7f4f958b",
   "metadata": {},
   "outputs": [],
   "source": [
    "import os\n",
    "import argparse\n",
    "import xml.etree.ElementTree as ET\n",
    "import pandas as pd\n",
    "import numpy as np\n",
    "import csv\n",
    "\n",
    "# Useful if you want to perform stemming.\n",
    "import nltk\n",
    "stemmer = nltk.stem.PorterStemmer()\n",
    "\n",
    "categories_file_name = r'/workspace/datasets/product_data/categories/categories_0001_abcat0010000_to_pcmcat99300050000.xml'\n",
    "\n",
    "queries_file_name = r'/workspace/datasets/train.csv'\n",
    "output_file_name = r'/workspace/datasets/labeled_query_data.txt'\n",
    "\n"
   ]
  },
  {
   "cell_type": "code",
   "execution_count": 3,
   "id": "3f02c980",
   "metadata": {},
   "outputs": [
    {
     "ename": "FileNotFoundError",
     "evalue": "[Errno 2] No such file or directory: '/workspace/datasets/product_data/categories/categories_0001_abcat0010000_to_pcmcat99300050000.xml'",
     "output_type": "error",
     "traceback": [
      "\u001b[0;31m---------------------------------------------------------------------------\u001b[0m",
      "\u001b[0;31mFileNotFoundError\u001b[0m                         Traceback (most recent call last)",
      "Input \u001b[0;32mIn [3]\u001b[0m, in \u001b[0;36m<cell line: 17>\u001b[0;34m()\u001b[0m\n\u001b[1;32m     14\u001b[0m min_queries \u001b[38;5;241m=\u001b[39m \u001b[38;5;241m1\u001b[39m\n\u001b[1;32m     15\u001b[0m root_category_id \u001b[38;5;241m=\u001b[39m \u001b[38;5;124m'\u001b[39m\u001b[38;5;124mcat00000\u001b[39m\u001b[38;5;124m'\u001b[39m\n\u001b[0;32m---> 17\u001b[0m tree \u001b[38;5;241m=\u001b[39m \u001b[43mET\u001b[49m\u001b[38;5;241;43m.\u001b[39;49m\u001b[43mparse\u001b[49m\u001b[43m(\u001b[49m\u001b[43mcategories_file_name\u001b[49m\u001b[43m)\u001b[49m\n\u001b[1;32m     18\u001b[0m root \u001b[38;5;241m=\u001b[39m tree\u001b[38;5;241m.\u001b[39mgetroot()\n\u001b[1;32m     20\u001b[0m \u001b[38;5;66;03m# Parse the category XML file to map each category id to its parent category id in a dataframe.\u001b[39;00m\n",
      "File \u001b[0;32m~/.pyenv/versions/3.9.7/lib/python3.9/xml/etree/ElementTree.py:1229\u001b[0m, in \u001b[0;36mparse\u001b[0;34m(source, parser)\u001b[0m\n\u001b[1;32m   1220\u001b[0m \u001b[38;5;124;03m\"\"\"Parse XML document into element tree.\u001b[39;00m\n\u001b[1;32m   1221\u001b[0m \n\u001b[1;32m   1222\u001b[0m \u001b[38;5;124;03m*source* is a filename or file object containing XML data,\u001b[39;00m\n\u001b[0;32m   (...)\u001b[0m\n\u001b[1;32m   1226\u001b[0m \n\u001b[1;32m   1227\u001b[0m \u001b[38;5;124;03m\"\"\"\u001b[39;00m\n\u001b[1;32m   1228\u001b[0m tree \u001b[38;5;241m=\u001b[39m ElementTree()\n\u001b[0;32m-> 1229\u001b[0m \u001b[43mtree\u001b[49m\u001b[38;5;241;43m.\u001b[39;49m\u001b[43mparse\u001b[49m\u001b[43m(\u001b[49m\u001b[43msource\u001b[49m\u001b[43m,\u001b[49m\u001b[43m \u001b[49m\u001b[43mparser\u001b[49m\u001b[43m)\u001b[49m\n\u001b[1;32m   1230\u001b[0m \u001b[38;5;28;01mreturn\u001b[39;00m tree\n",
      "File \u001b[0;32m~/.pyenv/versions/3.9.7/lib/python3.9/xml/etree/ElementTree.py:569\u001b[0m, in \u001b[0;36mElementTree.parse\u001b[0;34m(self, source, parser)\u001b[0m\n\u001b[1;32m    567\u001b[0m close_source \u001b[38;5;241m=\u001b[39m \u001b[38;5;28;01mFalse\u001b[39;00m\n\u001b[1;32m    568\u001b[0m \u001b[38;5;28;01mif\u001b[39;00m \u001b[38;5;129;01mnot\u001b[39;00m \u001b[38;5;28mhasattr\u001b[39m(source, \u001b[38;5;124m\"\u001b[39m\u001b[38;5;124mread\u001b[39m\u001b[38;5;124m\"\u001b[39m):\n\u001b[0;32m--> 569\u001b[0m     source \u001b[38;5;241m=\u001b[39m \u001b[38;5;28;43mopen\u001b[39;49m\u001b[43m(\u001b[49m\u001b[43msource\u001b[49m\u001b[43m,\u001b[49m\u001b[43m \u001b[49m\u001b[38;5;124;43m\"\u001b[39;49m\u001b[38;5;124;43mrb\u001b[39;49m\u001b[38;5;124;43m\"\u001b[39;49m\u001b[43m)\u001b[49m\n\u001b[1;32m    570\u001b[0m     close_source \u001b[38;5;241m=\u001b[39m \u001b[38;5;28;01mTrue\u001b[39;00m\n\u001b[1;32m    571\u001b[0m \u001b[38;5;28;01mtry\u001b[39;00m:\n",
      "\u001b[0;31mFileNotFoundError\u001b[0m: [Errno 2] No such file or directory: '/workspace/datasets/product_data/categories/categories_0001_abcat0010000_to_pcmcat99300050000.xml'"
     ]
    }
   ],
   "source": [
    "# parser = argparse.ArgumentParser(description='Process arguments.')\n",
    "# general = parser.add_argument_group(\"general\")\n",
    "# general.add_argument(\"--min_queries\", default=1,  help=\"The minimum number of queries per category label (default is 1)\")\n",
    "# general.add_argument(\"--output\", default=output_file_name, help=\"the file to output to\")\n",
    "\n",
    "# args = parser.parse_args()\n",
    "# output_file_name = args.output\n",
    "\n",
    "# if args.min_queries:\n",
    "#     min_queries = int(args.min_queries)\n",
    "\n",
    "# The root category, named Best Buy with id cat00000, doesn't have a parent.\n",
    "\n",
    "min_queries = 1\n",
    "root_category_id = 'cat00000'\n",
    "\n",
    "tree = ET.parse(categories_file_name)\n",
    "root = tree.getroot()\n",
    "\n",
    "# Parse the category XML file to map each category id to its parent category id in a dataframe.\n",
    "categories = []\n",
    "parents = []\n"
   ]
  },
  {
   "cell_type": "code",
   "execution_count": null,
   "id": "062dff5f",
   "metadata": {},
   "outputs": [],
   "source": [
    "for child in root:\n",
    "    id = child.find('id').text\n",
    "    cat_path = child.find('path')\n",
    "    cat_path_ids = [cat.find('id').text for cat in cat_path]\n",
    "    leaf_id = cat_path_ids[-1]\n",
    "    if leaf_id != root_category_id:\n",
    "        categories.append(leaf_id)\n",
    "        parents.append(cat_path_ids[-2])\n",
    "parents_df = pd.DataFrame(list(zip(categories, parents)), columns =['category', 'parent'])\n",
    "\n",
    "# Read the training data into pandas, only keeping queries with non-root categories in our category tree.\n",
    "df = pd.read_csv(queries_file_name)[['category', 'query']]\n",
    "df = df[df['category'].isin(categories)]"
   ]
  }
 ],
 "metadata": {
  "kernelspec": {
   "display_name": "Python 3 (ipykernel)",
   "language": "python",
   "name": "python3"
  },
  "language_info": {
   "codemirror_mode": {
    "name": "ipython",
    "version": 3
   },
   "file_extension": ".py",
   "mimetype": "text/x-python",
   "name": "python",
   "nbconvert_exporter": "python",
   "pygments_lexer": "ipython3",
   "version": "3.9.7"
  }
 },
 "nbformat": 4,
 "nbformat_minor": 5
}
